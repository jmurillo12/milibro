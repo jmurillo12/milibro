{
 "cells": [
  {
   "cell_type": "markdown",
   "id": "2626426c",
   "metadata": {},
   "source": [
    "# RITUALES SPA\n",
    "\n",
    "Ritual energizante inspirado en la litoterapia marina, para disfrutar del poder de las piedras y recargar el cuerpo de energía vital.\n",
    "Comenzamos con un gommage a base de Arena Rosa Coralina y Cuarzo Blanco con funciones dinamizadoras que activan los flujos energéticos.\n",
    "A continuación, entraríamos ya en el masaje. Una combinación de una crema de masaje, con un concentrado de “Alga Preciosa”\n",
    "enriquecida en Oro y Gemas de Cristal de Roca. Un momento sensorial intenso que, gracias a la textura innovadora y al tacto de las piedras, \n",
    "deja la piel delicadamente satinada y favorece la eficacia del masaje.\n",
    "\n",
    "![](ritual-joyaux.jpg) \n",
    "\n",
    "## RITUAL ÎLES PACIFIQUE\n",
    "\n",
    "Ritual relajante con pindas de arena caliente inspirado en el movimiento de las olas, para una profunda relajación.\n",
    "En la primera etapa tiene lugar el Gommage des illes. Este gommage con arena blanca de Bora Bora, sal marina y cáscara de coco purifica el cuerpo con toda la suavidad y deja la piel suave y aterciopelada. \n",
    "Perfumado y enriquecido con extractos de coco y vainilla, te traslada al paraíso.\n",
    "\n",
    "![](rituel-relaxant.jpg) \n",
    "\n",
    "## RITUAL CLEOPATRA\n",
    "\n",
    "Este ritual se basa en las rutinas de belleza de Cleopatra y te harán sentir como una reina. \n",
    "La bienvenida se realiza con unas toallitas calientes impregnadas en un Elixir para continuar con un peeling de sal marina y leche.\n",
    "\n",
    "![](ritual-cleopatra.jpg) \n",
    "\n",
    "## RITUAL TALASOTERAPIA\n",
    "\n",
    "Ritual de talasoterapia con algas mircroestalladas 100% puras y naturales, ricas en minerales, vitaminas y oligoelementos.\n",
    "Comenzamos con una exfoliación marina que favorece la renovación celular y la absorción de las propiedades de las algas.\n",
    "\n",
    "![](ritual-talasoterapia.jpg)"
   ]
  }
 ],
 "metadata": {
  "jupytext": {
   "cell_metadata_filter": "-all",
   "formats": "md:myst",
   "text_representation": {
    "extension": ".md",
    "format_name": "myst",
    "format_version": 0.13,
    "jupytext_version": "1.11.5"
   }
  },
  "kernelspec": {
   "display_name": "Python 3",
   "language": "python",
   "name": "python3"
  },
  "language_info": {
   "codemirror_mode": {
    "name": "ipython",
    "version": 3
   },
   "file_extension": ".py",
   "mimetype": "text/x-python",
   "name": "python",
   "nbconvert_exporter": "python",
   "pygments_lexer": "ipython3",
   "version": "3.10.2"
  },
  "source_map": [
   14
  ]
 },
 "nbformat": 4,
 "nbformat_minor": 5
}